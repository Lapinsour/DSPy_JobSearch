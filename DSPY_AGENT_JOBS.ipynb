{
  "nbformat": 4,
  "nbformat_minor": 0,
  "metadata": {
    "colab": {
      "provenance": []
    },
    "kernelspec": {
      "name": "python3",
      "display_name": "Python 3"
    },
    "language_info": {
      "name": "python"
    }
  },
  "cells": [
    {
      "cell_type": "code",
      "source": [
        "!pip install dspy pydantic openai\n",
        "\n",
        "import os\n",
        "import dspy\n",
        "from pydantic import BaseModel\n",
        "from typing import List"
      ],
      "metadata": {
        "colab": {
          "base_uri": "https://localhost:8080/"
        },
        "collapsed": true,
        "id": "cZoFR5UHqDOC",
        "outputId": "c4f4947d-413e-40f1-aad6-1ae3c7d71b2c"
      },
      "execution_count": 1,
      "outputs": [
        {
          "output_type": "stream",
          "name": "stdout",
          "text": [
            "Collecting dspy\n",
            "  Downloading dspy-3.0.3-py3-none-any.whl.metadata (7.2 kB)\n",
            "Requirement already satisfied: pydantic in /usr/local/lib/python3.12/dist-packages (2.11.9)\n",
            "Requirement already satisfied: openai in /usr/local/lib/python3.12/dist-packages (1.109.1)\n",
            "Collecting backoff>=2.2 (from dspy)\n",
            "  Downloading backoff-2.2.1-py3-none-any.whl.metadata (14 kB)\n",
            "Requirement already satisfied: joblib~=1.3 in /usr/local/lib/python3.12/dist-packages (from dspy) (1.5.2)\n",
            "Requirement already satisfied: regex>=2023.10.3 in /usr/local/lib/python3.12/dist-packages (from dspy) (2024.11.6)\n",
            "Requirement already satisfied: orjson>=3.9.0 in /usr/local/lib/python3.12/dist-packages (from dspy) (3.11.3)\n",
            "Requirement already satisfied: tqdm>=4.66.1 in /usr/local/lib/python3.12/dist-packages (from dspy) (4.67.1)\n",
            "Requirement already satisfied: requests>=2.31.0 in /usr/local/lib/python3.12/dist-packages (from dspy) (2.32.4)\n",
            "Collecting optuna>=3.4.0 (from dspy)\n",
            "  Downloading optuna-4.5.0-py3-none-any.whl.metadata (17 kB)\n",
            "Collecting magicattr>=0.1.6 (from dspy)\n",
            "  Downloading magicattr-0.1.6-py2.py3-none-any.whl.metadata (3.2 kB)\n",
            "Collecting litellm>=1.64.0 (from dspy)\n",
            "  Downloading litellm-1.77.5-py3-none-any.whl.metadata (42 kB)\n",
            "\u001b[2K     \u001b[90m━━━━━━━━━━━━━━━━━━━━━━━━━━━━━━━━━━━━━━━━\u001b[0m \u001b[32m42.4/42.4 kB\u001b[0m \u001b[31m1.7 MB/s\u001b[0m eta \u001b[36m0:00:00\u001b[0m\n",
            "\u001b[?25hCollecting diskcache>=5.6.0 (from dspy)\n",
            "  Downloading diskcache-5.6.3-py3-none-any.whl.metadata (20 kB)\n",
            "Collecting json-repair>=0.30.0 (from dspy)\n",
            "  Downloading json_repair-0.51.0-py3-none-any.whl.metadata (11 kB)\n",
            "Requirement already satisfied: tenacity>=8.2.3 in /usr/local/lib/python3.12/dist-packages (from dspy) (8.5.0)\n",
            "Requirement already satisfied: anyio in /usr/local/lib/python3.12/dist-packages (from dspy) (4.11.0)\n",
            "Collecting asyncer==0.0.8 (from dspy)\n",
            "  Downloading asyncer-0.0.8-py3-none-any.whl.metadata (6.7 kB)\n",
            "Requirement already satisfied: cachetools>=5.5.0 in /usr/local/lib/python3.12/dist-packages (from dspy) (5.5.2)\n",
            "Requirement already satisfied: cloudpickle>=3.0.0 in /usr/local/lib/python3.12/dist-packages (from dspy) (3.1.1)\n",
            "Requirement already satisfied: rich>=13.7.1 in /usr/local/lib/python3.12/dist-packages (from dspy) (13.9.4)\n",
            "Requirement already satisfied: numpy>=1.26.0 in /usr/local/lib/python3.12/dist-packages (from dspy) (2.0.2)\n",
            "Requirement already satisfied: xxhash>=3.5.0 in /usr/local/lib/python3.12/dist-packages (from dspy) (3.5.0)\n",
            "Collecting gepa==0.0.7 (from gepa[dspy]==0.0.7->dspy)\n",
            "  Downloading gepa-0.0.7-py3-none-any.whl.metadata (22 kB)\n",
            "Requirement already satisfied: annotated-types>=0.6.0 in /usr/local/lib/python3.12/dist-packages (from pydantic) (0.7.0)\n",
            "Requirement already satisfied: pydantic-core==2.33.2 in /usr/local/lib/python3.12/dist-packages (from pydantic) (2.33.2)\n",
            "Requirement already satisfied: typing-extensions>=4.12.2 in /usr/local/lib/python3.12/dist-packages (from pydantic) (4.15.0)\n",
            "Requirement already satisfied: typing-inspection>=0.4.0 in /usr/local/lib/python3.12/dist-packages (from pydantic) (0.4.2)\n",
            "Requirement already satisfied: distro<2,>=1.7.0 in /usr/local/lib/python3.12/dist-packages (from openai) (1.9.0)\n",
            "Requirement already satisfied: httpx<1,>=0.23.0 in /usr/local/lib/python3.12/dist-packages (from openai) (0.28.1)\n",
            "Requirement already satisfied: jiter<1,>=0.4.0 in /usr/local/lib/python3.12/dist-packages (from openai) (0.11.0)\n",
            "Requirement already satisfied: sniffio in /usr/local/lib/python3.12/dist-packages (from openai) (1.3.1)\n",
            "Requirement already satisfied: idna>=2.8 in /usr/local/lib/python3.12/dist-packages (from anyio->dspy) (3.10)\n",
            "Requirement already satisfied: certifi in /usr/local/lib/python3.12/dist-packages (from httpx<1,>=0.23.0->openai) (2025.8.3)\n",
            "Requirement already satisfied: httpcore==1.* in /usr/local/lib/python3.12/dist-packages (from httpx<1,>=0.23.0->openai) (1.0.9)\n",
            "Requirement already satisfied: h11>=0.16 in /usr/local/lib/python3.12/dist-packages (from httpcore==1.*->httpx<1,>=0.23.0->openai) (0.16.0)\n",
            "Requirement already satisfied: aiohttp>=3.10 in /usr/local/lib/python3.12/dist-packages (from litellm>=1.64.0->dspy) (3.12.15)\n",
            "Requirement already satisfied: click in /usr/local/lib/python3.12/dist-packages (from litellm>=1.64.0->dspy) (8.3.0)\n",
            "Collecting fastuuid>=0.13.0 (from litellm>=1.64.0->dspy)\n",
            "  Downloading fastuuid-0.13.5-cp312-cp312-manylinux_2_17_x86_64.manylinux2014_x86_64.whl.metadata (1.0 kB)\n",
            "Requirement already satisfied: importlib-metadata>=6.8.0 in /usr/local/lib/python3.12/dist-packages (from litellm>=1.64.0->dspy) (8.7.0)\n",
            "Requirement already satisfied: jinja2<4.0.0,>=3.1.2 in /usr/local/lib/python3.12/dist-packages (from litellm>=1.64.0->dspy) (3.1.6)\n",
            "Requirement already satisfied: jsonschema<5.0.0,>=4.22.0 in /usr/local/lib/python3.12/dist-packages (from litellm>=1.64.0->dspy) (4.25.1)\n",
            "Requirement already satisfied: python-dotenv>=0.2.0 in /usr/local/lib/python3.12/dist-packages (from litellm>=1.64.0->dspy) (1.1.1)\n",
            "Requirement already satisfied: tiktoken>=0.7.0 in /usr/local/lib/python3.12/dist-packages (from litellm>=1.64.0->dspy) (0.11.0)\n",
            "Requirement already satisfied: tokenizers in /usr/local/lib/python3.12/dist-packages (from litellm>=1.64.0->dspy) (0.22.1)\n",
            "Requirement already satisfied: alembic>=1.5.0 in /usr/local/lib/python3.12/dist-packages (from optuna>=3.4.0->dspy) (1.16.5)\n",
            "Collecting colorlog (from optuna>=3.4.0->dspy)\n",
            "  Downloading colorlog-6.9.0-py3-none-any.whl.metadata (10 kB)\n",
            "Requirement already satisfied: packaging>=20.0 in /usr/local/lib/python3.12/dist-packages (from optuna>=3.4.0->dspy) (25.0)\n",
            "Requirement already satisfied: sqlalchemy>=1.4.2 in /usr/local/lib/python3.12/dist-packages (from optuna>=3.4.0->dspy) (2.0.43)\n",
            "Requirement already satisfied: PyYAML in /usr/local/lib/python3.12/dist-packages (from optuna>=3.4.0->dspy) (6.0.3)\n",
            "Requirement already satisfied: charset_normalizer<4,>=2 in /usr/local/lib/python3.12/dist-packages (from requests>=2.31.0->dspy) (3.4.3)\n",
            "Requirement already satisfied: urllib3<3,>=1.21.1 in /usr/local/lib/python3.12/dist-packages (from requests>=2.31.0->dspy) (2.5.0)\n",
            "Requirement already satisfied: markdown-it-py>=2.2.0 in /usr/local/lib/python3.12/dist-packages (from rich>=13.7.1->dspy) (4.0.0)\n",
            "Requirement already satisfied: pygments<3.0.0,>=2.13.0 in /usr/local/lib/python3.12/dist-packages (from rich>=13.7.1->dspy) (2.19.2)\n",
            "Requirement already satisfied: aiohappyeyeballs>=2.5.0 in /usr/local/lib/python3.12/dist-packages (from aiohttp>=3.10->litellm>=1.64.0->dspy) (2.6.1)\n",
            "Requirement already satisfied: aiosignal>=1.4.0 in /usr/local/lib/python3.12/dist-packages (from aiohttp>=3.10->litellm>=1.64.0->dspy) (1.4.0)\n",
            "Requirement already satisfied: attrs>=17.3.0 in /usr/local/lib/python3.12/dist-packages (from aiohttp>=3.10->litellm>=1.64.0->dspy) (25.3.0)\n",
            "Requirement already satisfied: frozenlist>=1.1.1 in /usr/local/lib/python3.12/dist-packages (from aiohttp>=3.10->litellm>=1.64.0->dspy) (1.7.0)\n",
            "Requirement already satisfied: multidict<7.0,>=4.5 in /usr/local/lib/python3.12/dist-packages (from aiohttp>=3.10->litellm>=1.64.0->dspy) (6.6.4)\n",
            "Requirement already satisfied: propcache>=0.2.0 in /usr/local/lib/python3.12/dist-packages (from aiohttp>=3.10->litellm>=1.64.0->dspy) (0.3.2)\n",
            "Requirement already satisfied: yarl<2.0,>=1.17.0 in /usr/local/lib/python3.12/dist-packages (from aiohttp>=3.10->litellm>=1.64.0->dspy) (1.20.1)\n",
            "Requirement already satisfied: Mako in /usr/local/lib/python3.12/dist-packages (from alembic>=1.5.0->optuna>=3.4.0->dspy) (1.3.10)\n",
            "Requirement already satisfied: zipp>=3.20 in /usr/local/lib/python3.12/dist-packages (from importlib-metadata>=6.8.0->litellm>=1.64.0->dspy) (3.23.0)\n",
            "Requirement already satisfied: MarkupSafe>=2.0 in /usr/local/lib/python3.12/dist-packages (from jinja2<4.0.0,>=3.1.2->litellm>=1.64.0->dspy) (3.0.3)\n",
            "Requirement already satisfied: jsonschema-specifications>=2023.03.6 in /usr/local/lib/python3.12/dist-packages (from jsonschema<5.0.0,>=4.22.0->litellm>=1.64.0->dspy) (2025.9.1)\n",
            "Requirement already satisfied: referencing>=0.28.4 in /usr/local/lib/python3.12/dist-packages (from jsonschema<5.0.0,>=4.22.0->litellm>=1.64.0->dspy) (0.36.2)\n",
            "Requirement already satisfied: rpds-py>=0.7.1 in /usr/local/lib/python3.12/dist-packages (from jsonschema<5.0.0,>=4.22.0->litellm>=1.64.0->dspy) (0.27.1)\n",
            "Requirement already satisfied: mdurl~=0.1 in /usr/local/lib/python3.12/dist-packages (from markdown-it-py>=2.2.0->rich>=13.7.1->dspy) (0.1.2)\n",
            "Requirement already satisfied: greenlet>=1 in /usr/local/lib/python3.12/dist-packages (from sqlalchemy>=1.4.2->optuna>=3.4.0->dspy) (3.2.4)\n",
            "Requirement already satisfied: huggingface-hub<2.0,>=0.16.4 in /usr/local/lib/python3.12/dist-packages (from tokenizers->litellm>=1.64.0->dspy) (0.35.3)\n",
            "Requirement already satisfied: filelock in /usr/local/lib/python3.12/dist-packages (from huggingface-hub<2.0,>=0.16.4->tokenizers->litellm>=1.64.0->dspy) (3.19.1)\n",
            "Requirement already satisfied: fsspec>=2023.5.0 in /usr/local/lib/python3.12/dist-packages (from huggingface-hub<2.0,>=0.16.4->tokenizers->litellm>=1.64.0->dspy) (2025.3.0)\n",
            "Requirement already satisfied: hf-xet<2.0.0,>=1.1.3 in /usr/local/lib/python3.12/dist-packages (from huggingface-hub<2.0,>=0.16.4->tokenizers->litellm>=1.64.0->dspy) (1.1.10)\n",
            "Downloading dspy-3.0.3-py3-none-any.whl (261 kB)\n",
            "\u001b[2K   \u001b[90m━━━━━━━━━━━━━━━━━━━━━━━━━━━━━━━━━━━━━━━━\u001b[0m \u001b[32m261.7/261.7 kB\u001b[0m \u001b[31m8.1 MB/s\u001b[0m eta \u001b[36m0:00:00\u001b[0m\n",
            "\u001b[?25hDownloading asyncer-0.0.8-py3-none-any.whl (9.2 kB)\n",
            "Downloading gepa-0.0.7-py3-none-any.whl (52 kB)\n",
            "\u001b[2K   \u001b[90m━━━━━━━━━━━━━━━━━━━━━━━━━━━━━━━━━━━━━━━━\u001b[0m \u001b[32m52.3/52.3 kB\u001b[0m \u001b[31m2.9 MB/s\u001b[0m eta \u001b[36m0:00:00\u001b[0m\n",
            "\u001b[?25hDownloading backoff-2.2.1-py3-none-any.whl (15 kB)\n",
            "Downloading diskcache-5.6.3-py3-none-any.whl (45 kB)\n",
            "\u001b[2K   \u001b[90m━━━━━━━━━━━━━━━━━━━━━━━━━━━━━━━━━━━━━━━━\u001b[0m \u001b[32m45.5/45.5 kB\u001b[0m \u001b[31m2.7 MB/s\u001b[0m eta \u001b[36m0:00:00\u001b[0m\n",
            "\u001b[?25hDownloading json_repair-0.51.0-py3-none-any.whl (26 kB)\n",
            "Downloading litellm-1.77.5-py3-none-any.whl (9.2 MB)\n",
            "\u001b[2K   \u001b[90m━━━━━━━━━━━━━━━━━━━━━━━━━━━━━━━━━━━━━━━━\u001b[0m \u001b[32m9.2/9.2 MB\u001b[0m \u001b[31m72.4 MB/s\u001b[0m eta \u001b[36m0:00:00\u001b[0m\n",
            "\u001b[?25hDownloading magicattr-0.1.6-py2.py3-none-any.whl (4.7 kB)\n",
            "Downloading optuna-4.5.0-py3-none-any.whl (400 kB)\n",
            "\u001b[2K   \u001b[90m━━━━━━━━━━━━━━━━━━━━━━━━━━━━━━━━━━━━━━━━\u001b[0m \u001b[32m400.9/400.9 kB\u001b[0m \u001b[31m24.9 MB/s\u001b[0m eta \u001b[36m0:00:00\u001b[0m\n",
            "\u001b[?25hDownloading fastuuid-0.13.5-cp312-cp312-manylinux_2_17_x86_64.manylinux2014_x86_64.whl (272 kB)\n",
            "\u001b[2K   \u001b[90m━━━━━━━━━━━━━━━━━━━━━━━━━━━━━━━━━━━━━━━━\u001b[0m \u001b[32m272.3/272.3 kB\u001b[0m \u001b[31m17.2 MB/s\u001b[0m eta \u001b[36m0:00:00\u001b[0m\n",
            "\u001b[?25hDownloading colorlog-6.9.0-py3-none-any.whl (11 kB)\n",
            "Installing collected packages: magicattr, json-repair, gepa, fastuuid, diskcache, colorlog, backoff, asyncer, optuna, litellm, dspy\n",
            "Successfully installed asyncer-0.0.8 backoff-2.2.1 colorlog-6.9.0 diskcache-5.6.3 dspy-3.0.3 fastuuid-0.13.5 gepa-0.0.7 json-repair-0.51.0 litellm-1.77.5 magicattr-0.1.6 optuna-4.5.0\n"
          ]
        }
      ]
    },
    {
      "cell_type": "markdown",
      "source": [
        "dspy.Signature : Décrit une tâche (inputs/outputs).\n",
        "\n",
        "dspy.Predict(Signature) : Programme qui fait exécuter la tâche par le LLM.\n",
        "\n",
        "dspy.ReAct(Signature, tools=[...]) : Crée un agent intelligent qui peut raisonner, choisir des outils, et produire une sortie.\n",
        "\n",
        "dspy.configure(lm=...) : Définit quel modèle de langage est utilisé.\n",
        "\n",
        "Outils Python : Fonctions normales que l’agent peut invoquer.\n",
        "\n",
        "Appel d’agent : agent(user_request=\"...\") → déclenche tout le pipeline.\n",
        "\n",
        "#A NOTER :\n",
        "\n",
        "Les fonctions tools ont besoin d'annotations (docstring \"\"\", type hints ->) pour faciliter leur interprétation par le LLM.\n",
        "\n",
        "dspy.Signature définit une tâche ; dspy.Predict(Signature) transforme la tâche en programme exécutable par le LLM.\n",
        "\n",
        "DSPy génère automatiquement un prompt à partir des inputs et de la dosctring pour chaque tool.\n",
        "\n"
      ],
      "metadata": {
        "id": "cUgIx49UsYfc"
      }
    },
    {
      "cell_type": "code",
      "source": [
        "# Création de données factices pour test\n",
        "class JobOffer(BaseModel):\n",
        "    title: str\n",
        "    company: str\n",
        "    description: str\n",
        "    site: str\n",
        "\n",
        "class UserProfile(BaseModel):\n",
        "    name: str\n",
        "    skills: List[str]\n",
        "    experience: str\n",
        "    interests: List[str]\n",
        "\n",
        "# Profil factice\n",
        "user_profile = UserProfile(\n",
        "    name=\"Alice Dupont\",\n",
        "    skills=[\"Python\", \"Data Science\", \"Machine Learning\"],\n",
        "    experience=\"3 ans en analyse de données dans le secteur bancaire\",\n",
        "    interests=[\"IA appliquée\", \"analyse prédictive\"]\n",
        ")\n",
        "\n",
        "\n",
        "# Offres factices\n",
        "def fetch_jobs_from_site1() -> List[JobOffer]:\n",
        "    return [\n",
        "        JobOffer(title=\"Data Scientist\", company=\"TechCorp\", description=\"Analyse de données clients, Python, ML\", site=\"Site1\"),\n",
        "        JobOffer(title=\"Développeur Web\", company=\"WebAgency\", description=\"React, CSS, intégration frontend\", site=\"Site1\"),\n",
        "    ]\n",
        "\n",
        "def fetch_jobs_from_site2() -> List[JobOffer]:\n",
        "    return [\n",
        "        JobOffer(title=\"Machine Learning Engineer\", company=\"AI Solutions\", description=\"Deep learning, mise en production de modèles ML\", site=\"Site2\"),\n",
        "        JobOffer(title=\"Chef de projet IT\", company=\"ConsultingPro\", description=\"Gestion d’équipe, coordination de projets informatiques\", site=\"Site2\"),\n",
        "    ]\n",
        "\n"
      ],
      "metadata": {
        "id": "2VHC5TFpzBlW"
      },
      "execution_count": 11,
      "outputs": []
    },
    {
      "cell_type": "code",
      "execution_count": 12,
      "metadata": {
        "id": "hf3X1gRYqBIn"
      },
      "outputs": [],
      "source": [
        "# Création des tools qu'utilisera l'agent\n",
        "# Important de spécifier ce que fait l'outil pour l'agent\n",
        "\n",
        "\"\"\"\n",
        "profile: UserProfile = dspy.InputField() signifie :\n",
        "\n",
        "profile = nom du champ (clé d’entrée).\n",
        "\n",
        "UserProfile = type de données attendu.\n",
        "\n",
        "dspy.InputField() = ce champ est une entrée fournie au LLM.\n",
        "\"\"\"\n",
        "\n",
        "class MatchOfferSignature(dspy.Signature):\n",
        "    \"\"\"Déterminer si une offre d'emploi correspond au profil utilisateur.\"\"\"\n",
        "    profile: UserProfile = dspy.InputField()\n",
        "    job: JobOffer = dspy.InputField()\n",
        "    is_match: bool = dspy.OutputField(desc=\"True si le poste correspond au profil, False sinon.\")\n",
        "\n",
        "class PitchSignature(dspy.Signature):\n",
        "    \"\"\"Rédige un pitch personnalisé (style lettre de motivation)\n",
        "    adapté au profil et à l'offre d'emploi donnée.\"\"\"\n",
        "    profile: UserProfile = dspy.InputField()\n",
        "    job: JobOffer = dspy.InputField()\n",
        "    pitch: str = dspy.OutputField()\n",
        "\n",
        "def semantic_match_offer(profile: UserProfile, job: JobOffer) -> bool:\n",
        "    result = semantic_matcher(profile=profile, job=job)\n",
        "    return result.is_match\n",
        "\n",
        "def generate_pitch(profile: UserProfile, job: JobOffer) -> str:\n",
        "    \"\"\"Génère un pitch personnalisé avec DSPy.\"\"\"\n",
        "    result = pitch_generator(profile=profile, job=job)\n",
        "    return result.pitch\n",
        "\n"
      ]
    },
    {
      "cell_type": "code",
      "source": [
        "# Configuration du LLM\n",
        "#os.environ[\"OPENAI_API_KEY\"] = ici, spécifiez votre clef API\n",
        "dspy.configure(lm=dspy.LM(\"openai/gpt-4o-mini\")) # Ou un autre LLM"
      ],
      "metadata": {
        "id": "IintJprUzsvW"
      },
      "execution_count": 7,
      "outputs": []
    },
    {
      "cell_type": "code",
      "source": [
        "# Définition de l'agent DSPy\n",
        "class JobAgent(dspy.Signature):\n",
        "    user_request: str = dspy.InputField()\n",
        "    result: str = dspy.OutputField()"
      ],
      "metadata": {
        "id": "034t3t6Xzoac"
      },
      "execution_count": 8,
      "outputs": []
    },
    {
      "cell_type": "code",
      "source": [
        "# Programme DSPy qui instancie le matching\n",
        "semantic_matcher = dspy.Predict(MatchOfferSignature)\n",
        "# Programme DSPy pour générer le pitch\n",
        "pitch_generator = dspy.Predict(PitchSignature)\n",
        "\n",
        "# On assemble l’agent avec nos outils\n",
        "agent = dspy.ReAct(\n",
        "    JobAgent,\n",
        "    tools=[fetch_jobs_from_site1, fetch_jobs_from_site2, semantic_match_offer, generate_pitch]\n",
        ")\n"
      ],
      "metadata": {
        "id": "NKh3GlB0zzgM"
      },
      "execution_count": 9,
      "outputs": []
    },
    {
      "cell_type": "code",
      "source": [
        "# Utilisation de l'agent\n",
        "response = agent(user_request=\"Récupère les offres et propose un pitch pour celles qui correspondent au profil d'Alice\")\n",
        "print(response.result)"
      ],
      "metadata": {
        "id": "fz1zolZnz4LC"
      },
      "execution_count": null,
      "outputs": []
    }
  ]
}