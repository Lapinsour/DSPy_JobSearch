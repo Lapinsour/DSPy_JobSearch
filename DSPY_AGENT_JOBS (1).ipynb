{
  "nbformat": 4,
  "nbformat_minor": 0,
  "metadata": {
    "colab": {
      "provenance": []
    },
    "kernelspec": {
      "name": "python3",
      "display_name": "Python 3"
    },
    "language_info": {
      "name": "python"
    }
  },
  "cells": [
    {
      "cell_type": "code",
      "source": [
        "!pip install dspy pydantic openai\n",
        "\n",
        "import os\n",
        "import dspy\n",
        "from pydantic import BaseModel\n",
        "from typing import List"
      ],
      "metadata": {
        "collapsed": true,
        "id": "cZoFR5UHqDOC"
      },
      "execution_count": null,
      "outputs": []
    },
    {
      "cell_type": "markdown",
      "source": [
        "dspy.Signature : Décrit une tâche (inputs/outputs).\n",
        "\n",
        "dspy.Predict(Signature) : Programme qui fait exécuter la tâche par le LLM.\n",
        "\n",
        "dspy.ReAct(Signature, tools=[...]) : Crée un agent intelligent qui peut raisonner, choisir des outils, et produire une sortie.\n",
        "\n",
        "dspy.configure(lm=...) : Définit quel modèle de langage est utilisé.\n",
        "\n",
        "Outils Python : Fonctions normales que l’agent peut invoquer.\n",
        "\n",
        "Appel d’agent : agent(user_request=\"...\") → déclenche tout le pipeline.\n",
        "\n",
        "#A NOTER :\n",
        "\n",
        "Les fonctions tools ont besoin d'annotations (docstring \"\"\", type hints ->) pour faciliter leur interprétation par le LLM.\n",
        "\n",
        "dspy.Signature définit une tâche ; dspy.Predict(Signature) transforme la tâche en programme exécutable par le LLM.\n",
        "\n",
        "DSPy génère automatiquement un prompt à partir des inputs et de la dosctring pour chaque tool.\n",
        "\n"
      ],
      "metadata": {
        "id": "cUgIx49UsYfc"
      }
    },
    {
      "cell_type": "code",
      "source": [
        "# Création de données factices pour test\n",
        "class JobOffer(BaseModel):\n",
        "    title: str\n",
        "    company: str\n",
        "    description: str\n",
        "    site: str\n",
        "\n",
        "class UserProfile(BaseModel):\n",
        "    name: str\n",
        "    skills: List[str]\n",
        "    experience: str\n",
        "    interests: List[str]\n",
        "\n",
        "# Profil factice\n",
        "user_profile = UserProfile(\n",
        "    name=\"Alice Dupont\",\n",
        "    skills=[\"Python\", \"Data Science\", \"Machine Learning\"],\n",
        "    experience=\"3 ans en analyse de données dans le secteur bancaire\",\n",
        "    interests=[\"IA appliquée\", \"analyse prédictive\"]\n",
        ")\n",
        "\n",
        "\n",
        "# Offres factices\n",
        "def fetch_jobs_from_site1() -> List[JobOffer]:\n",
        "    return [\n",
        "        JobOffer(title=\"Data Scientist\", company=\"TechCorp\", description=\"Analyse de données clients, Python, ML\", site=\"Site1\"),\n",
        "        JobOffer(title=\"Développeur Web\", company=\"WebAgency\", description=\"React, CSS, intégration frontend\", site=\"Site1\"),\n",
        "    ]\n",
        "\n",
        "def fetch_jobs_from_site2() -> List[JobOffer]:\n",
        "    return [\n",
        "        JobOffer(title=\"Machine Learning Engineer\", company=\"AI Solutions\", description=\"Deep learning, mise en production de modèles ML\", site=\"Site2\"),\n",
        "        JobOffer(title=\"Chef de projet IT\", company=\"ConsultingPro\", description=\"Gestion d’équipe, coordination de projets informatiques\", site=\"Site2\"),\n",
        "    ]\n",
        "\n"
      ],
      "metadata": {
        "id": "2VHC5TFpzBlW"
      },
      "execution_count": 13,
      "outputs": []
    },
    {
      "cell_type": "code",
      "execution_count": 14,
      "metadata": {
        "id": "hf3X1gRYqBIn"
      },
      "outputs": [],
      "source": [
        "# Création des tools qu'utilisera l'agent\n",
        "# Important de spécifier ce que fait l'outil pour l'agent\n",
        "\n",
        "\"\"\"\n",
        "profile: UserProfile = dspy.InputField() signifie :\n",
        "\n",
        "profile = nom du champ (clé d’entrée).\n",
        "\n",
        "UserProfile = type de données attendu.\n",
        "\n",
        "dspy.InputField() = ce champ est une entrée fournie au LLM.\n",
        "\"\"\"\n",
        "\n",
        "class MatchOfferSignature(dspy.Signature):\n",
        "    \"\"\"Déterminer si une offre d'emploi correspond au profil utilisateur.\"\"\"\n",
        "    profile: UserProfile = dspy.InputField()\n",
        "    job: JobOffer = dspy.InputField()\n",
        "    is_match: bool = dspy.OutputField(desc=\"True si le poste correspond au profil, False sinon.\")\n",
        "\n",
        "class PitchSignature(dspy.Signature):\n",
        "    \"\"\"Rédige un pitch personnalisé (style lettre de motivation)\n",
        "    adapté au profil et à l'offre d'emploi donnée.\"\"\"\n",
        "    profile: UserProfile = dspy.InputField()\n",
        "    job: JobOffer = dspy.InputField()\n",
        "    pitch: str = dspy.OutputField()\n",
        "\n",
        "def semantic_match_offer(profile: UserProfile, job: JobOffer) -> bool:\n",
        "    result = semantic_matcher(profile=profile, job=job)\n",
        "    return result.is_match\n",
        "\n",
        "def generate_pitch(profile: UserProfile, job: JobOffer) -> str:\n",
        "    \"\"\"Génère un pitch personnalisé avec DSPy.\"\"\"\n",
        "    result = pitch_generator(profile=profile, job=job)\n",
        "    return result.pitch\n",
        "\n"
      ]
    },
    {
      "cell_type": "code",
      "source": [
        "# Configuration du LLM\n",
        "#os.environ[\"OPENAI_API_KEY\"] = ici, spécifiez votre clef API\n",
        "dspy.configure(lm=dspy.LM(\"openai/gpt-4o-mini\")) # Ou un autre LLM"
      ],
      "metadata": {
        "id": "IintJprUzsvW"
      },
      "execution_count": 15,
      "outputs": []
    },
    {
      "cell_type": "code",
      "source": [
        "# Définition de l'agent DSPy\n",
        "class JobAgent(dspy.Signature):\n",
        "    user_request: str = dspy.InputField()\n",
        "    result: str = dspy.OutputField()"
      ],
      "metadata": {
        "id": "034t3t6Xzoac"
      },
      "execution_count": 16,
      "outputs": []
    },
    {
      "cell_type": "code",
      "source": [
        "# Programme DSPy qui instancie le matching\n",
        "semantic_matcher = dspy.Predict(MatchOfferSignature)\n",
        "# Programme DSPy pour générer le pitch\n",
        "pitch_generator = dspy.Predict(PitchSignature)\n",
        "\n",
        "# On assemble l’agent avec nos outils\n",
        "agent = dspy.ReAct(\n",
        "    JobAgent,\n",
        "    tools=[fetch_jobs_from_site1, fetch_jobs_from_site2, semantic_match_offer, generate_pitch]\n",
        ")\n"
      ],
      "metadata": {
        "id": "NKh3GlB0zzgM"
      },
      "execution_count": 17,
      "outputs": []
    },
    {
      "cell_type": "code",
      "source": [
        "# Utilisation de l'agent\n",
        "response = agent(user_request=\"Récupère les offres et propose un pitch pour celles qui correspondent au profil d'Alice\")\n",
        "print(response.result)"
      ],
      "metadata": {
        "colab": {
          "base_uri": "https://localhost:8080/"
        },
        "id": "fz1zolZnz4LC",
        "outputId": "a381b610-c724-4e90-8503-ecb7726e2d8a"
      },
      "execution_count": 18,
      "outputs": [
        {
          "output_type": "stream",
          "name": "stdout",
          "text": [
            "1. **Pitch pour le poste de Data Scientist chez TechCorp :**\n",
            "\n",
            "   Madame, Monsieur,\n",
            "\n",
            "   Je me permets de vous adresser ma candidature pour le poste de Data Scientist au sein de TechCorp, tel que publié sur votre site. Avec deux ans d'expérience en analyse de données et développement web, je suis convaincue que mes compétences en Python et en Machine Learning correspondent parfaitement aux exigences de ce poste.\n",
            "\n",
            "   Au cours de mes précédentes expériences, j'ai eu l'opportunité de travailler sur divers projets d'analyse de données, où j'ai pu développer des modèles prédictifs et extraire des insights significatifs à partir de données clients. Mon expertise en Python me permet de manipuler efficacement des ensembles de données complexes, tandis que mes connaissances en React et CSS me donnent une perspective unique sur le développement d'applications web orientées données.\n",
            "\n",
            "   Passionnée par la data science, je suis toujours à la recherche de nouvelles méthodes pour optimiser l'analyse et la visualisation des données. Je suis particulièrement attirée par l'approche innovante de TechCorp et je serais ravie de contribuer à vos projets en apportant ma créativité et mon expertise technique.\n",
            "\n",
            "   Je vous remercie pour l'attention portée à ma candidature et je serais heureuse de discuter plus en détail de ma motivation et de mes compétences lors d'un entretien.\n",
            "\n",
            "   Cordialement,\n",
            "\n",
            "   Alice\n",
            "\n",
            "2. **Pitch pour le poste de Développeur Web chez WebAgency :**\n",
            "\n",
            "   Madame, Monsieur,\n",
            "\n",
            "   Je me permets de vous adresser ma candidature pour le poste de Développeur Web au sein de WebAgency, tel que publié sur votre site. Avec deux ans d'expérience en analyse de données et développement web, je suis convaincue que mes compétences en React et CSS, ainsi que ma passion pour le développement web, font de moi une candidate idéale pour ce poste.\n",
            "\n",
            "   Au cours de mes précédentes expériences, j'ai eu l'opportunité de travailler sur divers projets où j'ai pu mettre en pratique mes compétences en intégration frontend. Mon expertise en Python et en Machine Learning m'a également permis d'apporter une approche analytique à mes projets, garantissant ainsi des solutions innovantes et efficaces.\n",
            "\n",
            "   Je suis particulièrement attirée par l'environnement dynamique de WebAgency et je suis impatiente de contribuer à des projets stimulants qui allient technologie et créativité. Je suis persuadée que mon profil correspond parfaitement aux attentes de votre équipe et je serais ravie de pouvoir échanger davantage sur mes motivations et mes compétences.\n",
            "\n",
            "   Je vous remercie pour l'attention portée à ma candidature et j'espère avoir l'opportunité de discuter avec vous prochainement.\n",
            "\n",
            "   Cordialement,\n",
            "\n",
            "   Alice\n"
          ]
        }
      ]
    },
    {
      "cell_type": "code",
      "source": [],
      "metadata": {
        "id": "Vot7uYT-2zcK"
      },
      "execution_count": null,
      "outputs": []
    }
  ]
}